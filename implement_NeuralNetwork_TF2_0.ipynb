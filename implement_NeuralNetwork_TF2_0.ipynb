{
 "cells": [
  {
   "cell_type": "code",
   "execution_count": 1,
   "metadata": {
    "id": "c-9tvTI10M2x"
   },
   "outputs": [],
   "source": [
    "import tensorflow as tf\n",
    "import tensorflow.keras.backend as K\n",
    "import numpy as np\n",
    "import os\n",
    "os.environ['TF_CPP_MIN_LOG_LEVEL']='3'\n",
    "import matplotlib.pyplot as plt\n",
    "# Config the matplotlib backend as plotting inline in IPython\n",
    "%matplotlib inline"
   ]
  },
  {
   "cell_type": "markdown",
   "metadata": {
    "id": "Q8QBDXOC25NF"
   },
   "source": [
    "# Downloading and storing the data"
   ]
  },
  {
   "cell_type": "code",
   "execution_count": 2,
   "metadata": {
    "colab": {
     "base_uri": "https://localhost:8080/"
    },
    "id": "39Cdojj00o68",
    "outputId": "af43e379-2b57-4a7a-f486-bd6d05e8c77a"
   },
   "outputs": [
    {
     "name": "stdout",
     "output_type": "stream",
     "text": [
      "(Before) x_train has shape: (60000, 28, 28)\n",
      "(Before) x_test has shape: (10000, 28, 28)\n",
      "(Before) x_train has - min: 0, max: 255\n",
      "(Before) x_test has - min: 0, max: 255\n"
     ]
    }
   ],
   "source": [
    "os.makedirs('data', exist_ok=True)\n",
    "\n",
    "(x_train, y_train), (x_test, y_test) = tf.keras.datasets.mnist.load_data(path=os.path.join(os.getcwd(), 'data', 'mnist.npz'))\n",
    "\n",
    "print(f\"(Before) x_train has shape: {x_train.shape}\")\n",
    "print(f\"(Before) x_test has shape: {x_test.shape}\")\n",
    "\n",
    "print(f\"(Before) x_train has - min: {np.min(x_train)}, max: {np.max(x_train)}\")\n",
    "print(f\"(Before) x_test has - min: {np.min(x_test)}, max: {np.max(x_test)}\")"
   ]
  },
  {
   "cell_type": "markdown",
   "metadata": {
    "id": "uGEp1qkd3LR_"
   },
   "source": [
    "# Reshaping the image"
   ]
  },
  {
   "cell_type": "code",
   "execution_count": 3,
   "metadata": {
    "colab": {
     "base_uri": "https://localhost:8080/"
    },
    "id": "Ph_G2NXo3Kw6",
    "outputId": "2640b379-6bee-422d-94d4-e3fbc238b5fe"
   },
   "outputs": [
    {
     "name": "stdout",
     "output_type": "stream",
     "text": [
      "(After) x_train has shape: (60000, 784)\n",
      "(After) x_test has shape: (10000, 784)\n"
     ]
    }
   ],
   "source": [
    "x_train = x_train.reshape(x_train.shape[0], -1)\n",
    "x_test = x_test.reshape(x_test.shape[0], -1)\n",
    "\n",
    "print(f\"(After) x_train has shape: {x_train.shape}\")\n",
    "print(f\"(After) x_test has shape: {x_test.shape}\")"
   ]
  },
  {
   "cell_type": "markdown",
   "metadata": {
    "id": "pGMwjpKO3WGR"
   },
   "source": [
    "# Standardizing the image"
   ]
  },
  {
   "cell_type": "code",
   "execution_count": 4,
   "metadata": {
    "colab": {
     "base_uri": "https://localhost:8080/"
    },
    "id": "ZiQGiv-M3Kny",
    "outputId": "85071a33-13f4-40aa-eefe-32e2f670e637"
   },
   "outputs": [
    {
     "name": "stdout",
     "output_type": "stream",
     "text": [
      "(After) x_train has - min: -0.8508020140306101, max: 7.770145734421186\n",
      "(After) x_test has - min: -0.731905259880747, max: 7.57798901103678\n"
     ]
    }
   ],
   "source": [
    "x_train = (x_train - np.mean(x_train, axis=1, keepdims=True))/np.std(x_train, axis=1, keepdims=True)\n",
    "x_test = (x_test - np.mean(x_test, axis=1, keepdims=True))/np.std(x_test, axis=1, keepdims=True)\n",
    "\n",
    "print(f\"(After) x_train has - min: {np.min(x_train)}, max: {np.max(x_train)}\")\n",
    "print(f\"(After) x_test has - min: {np.min(x_test)}, max: {np.max(x_test)}\")"
   ]
  },
  {
   "cell_type": "markdown",
   "metadata": {
    "id": "qBI35M4W3ZEO"
   },
   "source": [
    "# One-hot encoding"
   ]
  },
  {
   "cell_type": "code",
   "execution_count": 5,
   "metadata": {
    "id": "L-YqUsUb06-B"
   },
   "outputs": [],
   "source": [
    "# One-hot encoding y_train and y_test\n",
    "num_labels = 10\n",
    "y_onehot_train = np.zeros((y_train.shape[0], num_labels), dtype=np.float32)\n",
    "y_onehot_train[np.arange(y_train.shape[0]), y_train] = 1.0\n",
    "\n",
    "y_onehot_test = np.zeros((y_test.shape[0], num_labels), dtype=np.float32)\n",
    "y_onehot_test[np.arange(y_test.shape[0]), y_test] = 1.0"
   ]
  },
  {
   "cell_type": "markdown",
   "metadata": {
    "id": "0W3JNd6P3syZ"
   },
   "source": [
    "# Defining the model"
   ]
  },
  {
   "cell_type": "code",
   "execution_count": 6,
   "metadata": {
    "id": "3ZlfbQhE1Wvc"
   },
   "outputs": [],
   "source": [
    "model = tf.keras.Sequential([\n",
    "        tf.keras.layers.Dense(500, activation='relu'),\n",
    "        tf.keras.layers.Dense(250, activation='relu'),\n",
    "        tf.keras.layers.Dense(10, activation='softmax')\n",
    "])"
   ]
  },
  {
   "cell_type": "markdown",
   "metadata": {
    "id": "Tmu611ME3tsR"
   },
   "source": [
    "# Defining the optimizer and loss function"
   ]
  },
  {
   "cell_type": "code",
   "execution_count": 7,
   "metadata": {
    "id": "DsXAxNmE1ZJU"
   },
   "outputs": [],
   "source": [
    "optimizer = tf.keras.optimizers.RMSprop()\n",
    "loss_fn = tf.keras.losses.CategoricalCrossentropy()\n",
    "model.compile(optimizer=optimizer, loss=loss_fn, metrics=['acc'])"
   ]
  },
  {
   "cell_type": "markdown",
   "metadata": {
    "id": "EDfSzXTw32Hi"
   },
   "source": [
    "# Training phase"
   ]
  },
  {
   "cell_type": "code",
   "execution_count": 8,
   "metadata": {
    "colab": {
     "base_uri": "https://localhost:8080/"
    },
    "id": "6gdn6T4G1zuC",
    "outputId": "133dfd20-9480-42b7-c215-353de1b6ee7a"
   },
   "outputs": [
    {
     "name": "stdout",
     "output_type": "stream",
     "text": [
      "Epoch 1/10\n",
      "480/480 [==============================] - 10s 20ms/step - loss: 0.2282 - acc: 0.9296 - val_loss: 0.1166 - val_acc: 0.9666\n",
      "Epoch 2/10\n",
      "480/480 [==============================] - 11s 24ms/step - loss: 0.0883 - acc: 0.9718 - val_loss: 0.1026 - val_acc: 0.9705\n",
      "Epoch 3/10\n",
      "480/480 [==============================] - 8s 16ms/step - loss: 0.0598 - acc: 0.9818 - val_loss: 0.0934 - val_acc: 0.9745\n",
      "Epoch 4/10\n",
      "480/480 [==============================] - 6s 12ms/step - loss: 0.0415 - acc: 0.9869 - val_loss: 0.1072 - val_acc: 0.9737\n",
      "Epoch 5/10\n",
      "480/480 [==============================] - 7s 14ms/step - loss: 0.0307 - acc: 0.9896 - val_loss: 0.1095 - val_acc: 0.9756\n",
      "Epoch 6/10\n",
      "480/480 [==============================] - 6s 12ms/step - loss: 0.0224 - acc: 0.9926 - val_loss: 0.1184 - val_acc: 0.9773\n",
      "Epoch 7/10\n",
      "480/480 [==============================] - 7s 14ms/step - loss: 0.0191 - acc: 0.9940 - val_loss: 0.1204 - val_acc: 0.9773\n",
      "Epoch 8/10\n",
      "480/480 [==============================] - 6s 12ms/step - loss: 0.0143 - acc: 0.9953 - val_loss: 0.1407 - val_acc: 0.9757\n",
      "Epoch 9/10\n",
      "480/480 [==============================] - 7s 15ms/step - loss: 0.0115 - acc: 0.9964 - val_loss: 0.1299 - val_acc: 0.9802\n",
      "Epoch 10/10\n",
      "480/480 [==============================] - 6s 12ms/step - loss: 0.0088 - acc: 0.9969 - val_loss: 0.1481 - val_acc: 0.9756\n"
     ]
    }
   ],
   "source": [
    "batch_size = 100\n",
    "num_epochs = 10\n",
    "\n",
    "train_history = model.fit(\n",
    "    x=x_train,\n",
    "    y=y_onehot_train,\n",
    "    batch_size=batch_size,\n",
    "    epochs= num_epochs,\n",
    "    validation_split=0.2\n",
    ")"
   ]
  },
  {
   "cell_type": "markdown",
   "metadata": {
    "id": "rr4e8N3835Ai"
   },
   "source": [
    "# Evaulting on test data"
   ]
  },
  {
   "cell_type": "code",
   "execution_count": 9,
   "metadata": {
    "colab": {
     "base_uri": "https://localhost:8080/"
    },
    "id": "yNANRWBc14_l",
    "outputId": "68cb6d8b-8030-4a34-ae59-59c010af5f0d"
   },
   "outputs": [
    {
     "name": "stdout",
     "output_type": "stream",
     "text": [
      "100/100 [==============================] - 1s 5ms/step - loss: 0.1311 - acc: 0.9775\n"
     ]
    }
   ],
   "source": [
    "test_res = model.evaluate(\n",
    "    x=x_test,\n",
    "    y=y_onehot_test,\n",
    "    batch_size=batch_size\n",
    ")"
   ]
  }
 ],
 "metadata": {
  "colab": {
   "provenance": []
  },
  "kernelspec": {
   "display_name": "Python 3 (ipykernel)",
   "language": "python",
   "name": "python3"
  },
  "language_info": {
   "codemirror_mode": {
    "name": "ipython",
    "version": 3
   },
   "file_extension": ".py",
   "mimetype": "text/x-python",
   "name": "python",
   "nbconvert_exporter": "python",
   "pygments_lexer": "ipython3",
   "version": "3.11.4"
  }
 },
 "nbformat": 4,
 "nbformat_minor": 4
}
