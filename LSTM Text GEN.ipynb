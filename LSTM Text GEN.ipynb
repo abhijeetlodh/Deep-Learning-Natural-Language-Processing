{
 "cells": [
  {
   "cell_type": "markdown",
   "metadata": {
    "id": "6sebxruLTEzI"
   },
   "source": [
    "# LSTMs for text generation"
   ]
  },
  {
   "cell_type": "code",
   "execution_count": 1,
   "metadata": {
    "id": "LxR7ZwokTEzJ"
   },
   "outputs": [],
   "source": [
    "import os\n",
    "os.environ['TF_CPP_MIN_LOG_LEVEL']='3'\n",
    "from six.moves.urllib.request import urlretrieve\n",
    "import tensorflow as tf\n",
    "import numpy as np"
   ]
  },
  {
   "cell_type": "markdown",
   "metadata": {
    "id": "8_BD0n5HTEzK"
   },
   "source": [
    "## Downloading stories\n",
    "Stories are automatically downloaded from https://www.cs.cmu.edu/~spok/grimmtmp/, if not detected in the disk. The total size of stories is around ~500KB. The dataset consists of 209 stories."
   ]
  },
  {
   "cell_type": "code",
   "execution_count": 2,
   "metadata": {
    "colab": {
     "base_uri": "https://localhost:8080/"
    },
    "id": "wQJlOcwXTEzK",
    "outputId": "aef58058-f3dc-4112-b7aa-490cea01e6fc",
    "scrolled": true
   },
   "outputs": [
    {
     "name": "stdout",
     "output_type": "stream",
     "text": [
      "100 files found.\n"
     ]
    }
   ],
   "source": [
    "url = 'https://www.cs.cmu.edu/~spok/grimmtmp/'\n",
    "dir_name = 'data'\n",
    "\n",
    "def download_data(url, filename, download_dir):\n",
    "    \"\"\"Download a file if not present, and make sure it's the right size.\"\"\"\n",
    "\n",
    "    # Create directories if they don't exist\n",
    "    os.makedirs(download_dir, exist_ok=True)\n",
    "\n",
    "    # If file doesn't exist, download\n",
    "    if not os.path.exists(os.path.join(download_dir,filename)):\n",
    "        filepath, _ = urlretrieve(url + filename, os.path.join(download_dir,filename))\n",
    "    else:\n",
    "        filepath = os.path.join(download_dir, filename)\n",
    "\n",
    "    return filepath\n",
    "\n",
    "# Number of files and their names to download\n",
    "# num_files = 209\n",
    "num_files = 100\n",
    "filenames = [format(i, '03d')+'.txt' for i in range(1,num_files+1)]\n",
    "\n",
    "# Download each file\n",
    "for fn in filenames:\n",
    "    download_data(url, fn, dir_name)\n",
    "\n",
    "# Check if all files are downloaded\n",
    "for i in range(len(filenames)):\n",
    "    file_exists = os.path.isfile(os.path.join(dir_name,filenames[i]))\n",
    "    assert file_exists\n",
    "print(f\"{len(filenames)} files found.\")"
   ]
  },
  {
   "cell_type": "markdown",
   "metadata": {
    "id": "ajw_IR79TEzK"
   },
   "source": [
    "## Splitting train, validation, and test data"
   ]
  },
  {
   "cell_type": "code",
   "execution_count": 3,
   "metadata": {
    "colab": {
     "base_uri": "https://localhost:8080/"
    },
    "id": "a3E92FyiTEzK",
    "outputId": "b21904ea-4e07-4723-9440-fd677d1465c6"
   },
   "outputs": [
    {
     "name": "stdout",
     "output_type": "stream",
     "text": [
      "Got 108 files in the train dataset (e.g. ['data/128.txt', 'data/054.txt', 'data/101.txt'])\n",
      "Got 14 files in the valid dataset (e.g. ['data/072.txt', 'data/014.txt', 'data/063.txt'])\n",
      "Got 14 files in the test dataset (e.g. ['data/049.txt', 'data/131.txt', 'data/106.txt'])\n"
     ]
    }
   ],
   "source": [
    "from sklearn.model_selection import train_test_split\n",
    "\n",
    "# Fix the random seed so we get the same output every time\n",
    "random_state = 54321\n",
    "\n",
    "filenames = [os.path.join(dir_name, f) for f in os.listdir(dir_name)]\n",
    "\n",
    "# First separate train and valid+test data\n",
    "train_filenames, test_and_valid_filenames = train_test_split(filenames, test_size=0.2, random_state=random_state)\n",
    "\n",
    "# Separate valid+test data to validation and test data\n",
    "valid_filenames, test_filenames = train_test_split(test_and_valid_filenames, test_size=0.5, random_state=random_state)\n",
    "\n",
    "# Print out the sizes and some sample file names\n",
    "for subset_id, subset in zip(('train', 'valid', 'test'), (train_filenames, valid_filenames, test_filenames)):\n",
    "    print(f\"Got {len(subset)} files in the {subset_id} dataset (e.g. {subset[:3]})\")"
   ]
  },
  {
   "cell_type": "markdown",
   "metadata": {
    "id": "cZ7AnF_8TEzK"
   },
   "source": [
    "## Finding the vocabulary size"
   ]
  },
  {
   "cell_type": "code",
   "execution_count": 4,
   "metadata": {
    "colab": {
     "base_uri": "https://localhost:8080/"
    },
    "id": "gyJudWNgTEzK",
    "outputId": "83a6b3bd-01c0-48ef-b1ae-2fa9aa8903cc"
   },
   "outputs": [
    {
     "name": "stdout",
     "output_type": "stream",
     "text": [
      "Found 678 unique bigrams\n"
     ]
    }
   ],
   "source": [
    "bigram_set = set()\n",
    "\n",
    "# Go through each file in the training set\n",
    "for fname in train_filenames:\n",
    "    document = [] # This will hold all the text\n",
    "    with open(fname, 'r') as f:\n",
    "        for row in f:\n",
    "            # Convert text to lowercase to reduce input dimensionality\n",
    "            document.append(row.lower())\n",
    "\n",
    "        # From the list of text we have, generate one long string (containing all training stories)\n",
    "        document = \" \".join(document)\n",
    "\n",
    "        # Update the set with all bigrams found\n",
    "        bigram_set.update([document[i:i+2] for i in range(0, len(document), 2)])\n",
    "\n",
    "# Assign to a variable and print\n",
    "n_vocab = len(bigram_set)\n",
    "print(f\"Found {n_vocab} unique bigrams\")"
   ]
  },
  {
   "cell_type": "code",
   "execution_count": 5,
   "metadata": {
    "id": "92FLA8Y9TEzK"
   },
   "outputs": [],
   "source": [
    "def generate_tf_dataset(filenames, ngram_width, window_size, batch_size, shuffle=False):\n",
    "    \"\"\" Generate batched data from a list of files speficied \"\"\"\n",
    "\n",
    "    # Read the data found in the documents\n",
    "    documents = []\n",
    "    for f in filenames:\n",
    "        doc = tf.io.read_file(f)\n",
    "        doc = tf.strings.ngrams(    # Generate n-grams from the string\n",
    "            tf.strings.bytes_split(    # Create a list of chars from a string\n",
    "                tf.strings.regex_replace(    # Replace new lines with spaces\n",
    "                    tf.strings.lower(    # Convert string to lowercase\n",
    "                        doc\n",
    "                    ), \"\\n\", \" \"\n",
    "                )\n",
    "            ),\n",
    "            ngram_width, separator=''\n",
    "        )\n",
    "        documents.append(doc.numpy().tolist())\n",
    "\n",
    "    # documents is a list of list of strings, where each string is a story\n",
    "    # From that we generate a ragged tensor\n",
    "    documents = tf.ragged.constant(documents)\n",
    "    # Create a dataset where each row in the ragged tensor would be a sample\n",
    "    doc_dataset = tf.data.Dataset.from_tensor_slices(documents)\n",
    "    # We need to perform a quick transformation - tf.strings.ngrams would generate\n",
    "    # all the n-grams (e.g., abcd -> ab, bc, cd) with overlap; however, for our data\n",
    "    # we do not need the overlap, so we need to skip the overlapping n-grams\n",
    "    # the following line does that\n",
    "    doc_dataset = doc_dataset.map(lambda x: x[::ngram_width])\n",
    "\n",
    "    # Here we are using a window function to generate windows from text\n",
    "    # For a text sequence with window_size 3 and shift 1 you get\n",
    "    # e.g., ab, cd, ef, gh, ij, ... -> [ab, cd, ef], [cd, ef, gh], [ef, gh, ij], ...\n",
    "    # each of these windows is a single training sequence, for our model\n",
    "    doc_dataset = doc_dataset.flat_map(\n",
    "        lambda x: tf.data.Dataset.from_tensor_slices(\n",
    "            x\n",
    "        ).window(\n",
    "            size=window_size+1, shift=int(window_size * 0.75)\n",
    "        ).flat_map(\n",
    "            lambda window: window.batch(window_size+1, drop_remainder=True)\n",
    "        )\n",
    "    )\n",
    "\n",
    "    # From each windowed sequence we generate input and target tuple\n",
    "    # e.g. [ab, cd, ef] -> ([ab, cd], [cd, ef])\n",
    "    doc_dataset = doc_dataset.map(lambda x: (x[:-1], x[1:]))\n",
    "\n",
    "    # Shuffle the data if required\n",
    "    doc_dataset = doc_dataset.shuffle(buffer_size=batch_size*10) if shuffle else doc_dataset\n",
    "\n",
    "    # Batch the data\n",
    "    doc_dataset = doc_dataset.batch(batch_size=batch_size)\n",
    "\n",
    "    # Return the data\n",
    "    return doc_dataset\n",
    "\n",
    "\n",
    "ngram_length = 2\n",
    "batch_size = 128\n",
    "window_size = 128\n",
    "\n",
    "train_ds = generate_tf_dataset(train_filenames, ngram_length, window_size, batch_size, shuffle=True)\n",
    "valid_ds = generate_tf_dataset(valid_filenames, ngram_length, window_size, batch_size)\n",
    "test_ds = generate_tf_dataset(test_filenames, ngram_length, window_size, batch_size)"
   ]
  },
  {
   "cell_type": "markdown",
   "metadata": {
    "id": "5urE5xhJTEzL"
   },
   "source": [
    "## Generating a few samples from the dataset function"
   ]
  },
  {
   "cell_type": "code",
   "execution_count": 6,
   "metadata": {
    "colab": {
     "base_uri": "https://localhost:8080/"
    },
    "id": "FALKCNQeTEzL",
    "outputId": "1b7e1e8f-48c2-49c2-c380-a338abf7f747"
   },
   "outputs": [
    {
     "name": "stdout",
     "output_type": "stream",
     "text": [
      "[[b'th' b'er' b'e ' b'wa' b's ' b'on' b'ce' b' u' b'po' b'n ']] -> [[b'er' b'e ' b'wa' b's ' b'on' b'ce' b' u' b'po' b'n ' b'a ']]\n",
      "[[b' u' b'po' b'n ' b'a ' b'ti' b'me' b' a' b' v' b'er' b'y ']] -> [[b'po' b'n ' b'a ' b'ti' b'me' b' a' b' v' b'er' b'y ' b'ol']]\n",
      "[[b' v' b'er' b'y ' b'ol' b'd ' b'wo' b'ma' b'n,' b' w' b'ho']] -> [[b'er' b'y ' b'ol' b'd ' b'wo' b'ma' b'n,' b' w' b'ho' b' l']]\n",
      "[[b'n,' b' w' b'ho' b' l' b'iv' b'ed' b' w' b'it' b'h ' b'he']] -> [[b' w' b'ho' b' l' b'iv' b'ed' b' w' b'it' b'h ' b'he' b'r ']]\n",
      "[[b'it' b'h ' b'he' b'r ' b'fl' b'oc' b'k ' b'of' b' g' b'ee']] -> [[b'h ' b'he' b'r ' b'fl' b'oc' b'k ' b'of' b' g' b'ee' b'se']]\n"
     ]
    }
   ],
   "source": [
    "ds = generate_tf_dataset(train_filenames, 2, window_size=10, batch_size=1).take(5)\n",
    "\n",
    "for record in ds:\n",
    "    print(record[0].numpy(), '->', record[1].numpy())"
   ]
  },
  {
   "cell_type": "markdown",
   "metadata": {
    "id": "ALyKTiTmTEzL"
   },
   "source": [
    "## Defining the model"
   ]
  },
  {
   "cell_type": "code",
   "execution_count": 7,
   "metadata": {
    "id": "kVn13_I2TEzL"
   },
   "outputs": [],
   "source": [
    "import tensorflow.keras.backend as K\n",
    "\n",
    "K.clear_session()\n",
    "tf.compat.v1.reset_default_graph()"
   ]
  },
  {
   "cell_type": "markdown",
   "metadata": {
    "id": "tF0RqWrsTEzL"
   },
   "source": [
    "### Defining a `TextVectorization` layer"
   ]
  },
  {
   "cell_type": "code",
   "execution_count": 8,
   "metadata": {
    "id": "3w4w_rfQTEzL"
   },
   "outputs": [],
   "source": [
    "import tensorflow.keras.layers as layers\n",
    "import tensorflow.keras.models as models\n",
    "\n",
    "# The vectorization layer that will convert string bigrams to IDs\n",
    "text_vectorizer = tf.keras.layers.TextVectorization(\n",
    "    max_tokens=n_vocab, standardize=None,\n",
    "    split=None, input_shape=(window_size,)\n",
    ")\n",
    "\n",
    "# Train the model on existing data\n",
    "text_vectorizer.adapt(train_ds)"
   ]
  },
  {
   "cell_type": "code",
   "execution_count": 9,
   "metadata": {
    "colab": {
     "base_uri": "https://localhost:8080/"
    },
    "id": "D3Ageq7kTEzL",
    "outputId": "31763571-84a2-46a8-ce9e-0d50b00ad3d9"
   },
   "outputs": [
    {
     "data": {
      "text/plain": [
       "['', '[UNK]', 'e ', 'he', ' t', 'th', 'd ', ' a', ', ', ' h']"
      ]
     },
     "execution_count": 9,
     "metadata": {},
     "output_type": "execute_result"
    }
   ],
   "source": [
    "# Print a few bigrams learned by the vectorization layer\n",
    "text_vectorizer.get_vocabulary()[:10]"
   ]
  },
  {
   "cell_type": "markdown",
   "metadata": {
    "id": "3Q2xwDpFTEzL"
   },
   "source": [
    "### Converting the targets from string n-grams to n-gram IDs"
   ]
  },
  {
   "cell_type": "code",
   "execution_count": 10,
   "metadata": {
    "id": "p1ywFBy7TEzL"
   },
   "outputs": [],
   "source": [
    "train_ds = train_ds.map(lambda x, y: (x, text_vectorizer(y)))\n",
    "valid_ds = valid_ds.map(lambda x, y: (x, text_vectorizer(y)))\n",
    "test_ds = test_ds.map(lambda x, y: (x, text_vectorizer(y)))"
   ]
  },
  {
   "cell_type": "code",
   "execution_count": 11,
   "metadata": {
    "id": "NakWuyhJTEzL"
   },
   "outputs": [],
   "source": [
    "lm_model = models.Sequential([\n",
    "    text_vectorizer,\n",
    "    layers.Embedding(n_vocab+2, 96),\n",
    "    layers.LSTM(512, return_sequences=True),\n",
    "    layers.LSTM(256, return_sequences=True),\n",
    "    layers.Dense(1024, activation='relu'),\n",
    "    layers.Dropout(0.5),\n",
    "    layers.Dense(n_vocab, activation='softmax')\n",
    "])"
   ]
  },
  {
   "cell_type": "markdown",
   "metadata": {
    "id": "juOSSWkYTEzL"
   },
   "source": [
    "### Metrics and compilation"
   ]
  },
  {
   "cell_type": "code",
   "execution_count": 12,
   "metadata": {
    "id": "iEx_F2EHTEzL"
   },
   "outputs": [],
   "source": [
    "# Inspired by https://gist.github.com/Gregorgeous/dbad1ec22efc250c76354d949a13cec3\n",
    "class PerplexityMetric(tf.keras.metrics.Mean):\n",
    "\n",
    "    def __init__(self, name='perplexity', **kwargs):\n",
    "      super().__init__(name=name, **kwargs)\n",
    "      self.cross_entropy = tf.keras.losses.SparseCategoricalCrossentropy(from_logits=False, reduction='none')\n",
    "\n",
    "    def _calculate_perplexity(self, real, pred):\n",
    "\n",
    "      # The next four lines zero out the padding from loss calculations,\n",
    "      # this follows the logic from: https://www.tensorflow.org/beta/tutorials/text/transformer#loss_and_metrics\n",
    "      loss_ = self.cross_entropy(real, pred)\n",
    "\n",
    "      # Calculating the perplexity steps:\n",
    "      step1 = K.mean(loss_, axis=-1)\n",
    "      perplexity = K.exp(step1)\n",
    "\n",
    "      return perplexity\n",
    "\n",
    "    def update_state(self, y_true, y_pred, sample_weight=None):\n",
    "      perplexity = self._calculate_perplexity(y_true, y_pred)\n",
    "      # Remember self.perplexity is a tensor (tf.Variable), so using simply \"self.perplexity = perplexity\" will result in error because of mixing EagerTensor and Graph operations\n",
    "      super().update_state(perplexity)\n"
   ]
  },
  {
   "cell_type": "code",
   "execution_count": 13,
   "metadata": {
    "colab": {
     "base_uri": "https://localhost:8080/"
    },
    "id": "mCj6wzaWTEzL",
    "outputId": "ff3044a0-4e8c-4527-f14d-2c3104ffad2a"
   },
   "outputs": [
    {
     "name": "stdout",
     "output_type": "stream",
     "text": [
      "Model: \"sequential\"\n",
      "_________________________________________________________________\n",
      " Layer (type)                Output Shape              Param #   \n",
      "=================================================================\n",
      " text_vectorization (TextVe  (None, 128)               0         \n",
      " ctorization)                                                    \n",
      "                                                                 \n",
      " embedding (Embedding)       (None, 128, 96)           65280     \n",
      "                                                                 \n",
      " lstm (LSTM)                 (None, 128, 512)          1247232   \n",
      "                                                                 \n",
      " lstm_1 (LSTM)               (None, 128, 256)          787456    \n",
      "                                                                 \n",
      " dense (Dense)               (None, 128, 1024)         263168    \n",
      "                                                                 \n",
      " dropout (Dropout)           (None, 128, 1024)         0         \n",
      "                                                                 \n",
      " dense_1 (Dense)             (None, 128, 678)          694950    \n",
      "                                                                 \n",
      "=================================================================\n",
      "Total params: 3058086 (11.67 MB)\n",
      "Trainable params: 3058086 (11.67 MB)\n",
      "Non-trainable params: 0 (0.00 Byte)\n",
      "_________________________________________________________________\n"
     ]
    }
   ],
   "source": [
    "lm_model.compile(loss='sparse_categorical_crossentropy', optimizer='adam', metrics=['accuracy', PerplexityMetric()])\n",
    "lm_model.summary()"
   ]
  },
  {
   "cell_type": "code",
   "execution_count": null,
   "metadata": {
    "colab": {
     "base_uri": "https://localhost:8080/"
    },
    "id": "5iwL9m6-bECA",
    "outputId": "6e03d831-eed1-49a5-a3a4-63292f990bd5"
   },
   "outputs": [
    {
     "name": "stdout",
     "output_type": "stream",
     "text": [
      "Epoch 1/3\n"
     ]
    }
   ],
   "source": [
    "lstm_history = lm_model.fit(train_ds, validation_data=valid_ds, epochs=3)"
   ]
  },
  {
   "attachments": {
    "image.png": {
     "image/png": "[encoded data removed]"
    }
   },
   "cell_type": "markdown",
   "metadata": {},
   "source": [
    "# Inference model\n",
    "![image.png](attachment:image.png)"
   ]
  },
  {
   "cell_type": "code",
   "execution_count": null,
   "metadata": {
    "colab": {
     "base_uri": "https://localhost:8080/"
    },
    "id": "Htt00IUdb14B",
    "outputId": "ff1ca87d-5545-4daf-937b-e2067f6daac5"
   },
   "outputs": [],
   "source": [
    "# Define inputs to the model\n",
    "inp = tf.keras.layers.Input(dtype=tf.string, shape=(1,))\n",
    "\n",
    "text_vectorized_out = lm_model.get_layer('text_vectorization')(inp)\n",
    "\n",
    "inp_state_c_lstm = tf.keras.layers.Input(shape=(512,))\n",
    "inp_state_h_lstm = tf.keras.layers.Input(shape=(512,))\n",
    "inp_state_c_lstm_1 = tf.keras.layers.Input(shape=(256,))\n",
    "inp_state_h_lstm_1 = tf.keras.layers.Input(shape=(256,))\n",
    "\n",
    "# Define embedding layer and output\n",
    "emb_layer = lm_model.get_layer('embedding')\n",
    "emb_out = emb_layer(text_vectorized_out)\n",
    "\n",
    "# Define an LSTM layers and output\n",
    "lstm_layer = tf.keras.layers.LSTM(512, return_state=True, return_sequences=True)\n",
    "lstm_out, lstm_state_c, lstm_state_h = lstm_layer(emb_out, initial_state=[inp_state_c_lstm, inp_state_h_lstm])\n",
    "\n",
    "lstm_1_layer = tf.keras.layers.LSTM(256, return_state=True, return_sequences=True)\n",
    "lstm_1_out, lstm_1_state_c, lstm_1_state_h = lstm_1_layer(lstm_out, initial_state=[inp_state_c_lstm_1, inp_state_h_lstm_1])\n",
    "\n",
    "# Define a Dense layer and output\n",
    "dense_out = lm_model.get_layer('dense')(lstm_1_out)\n",
    "\n",
    "# Define the final Dense layer and output\n",
    "final_out = lm_model.get_layer('dense_1')(dense_out)\n",
    "#softmax_out = tf.keras.layers.Activation(activation='softmax')(final_out)\n",
    "\n",
    "# Copy the weights from the original model\n",
    "lstm_layer.set_weights(lm_model.get_layer('lstm').get_weights())\n",
    "lstm_1_layer.set_weights(lm_model.get_layer('lstm_1').get_weights())\n",
    "\n",
    "# Define final model\n",
    "infer_model = tf.keras.models.Model(\n",
    "    inputs=[inp, inp_state_c_lstm, inp_state_h_lstm, inp_state_c_lstm_1, inp_state_h_lstm_1],\n",
    "    outputs=[final_out, lstm_state_c, lstm_state_h, lstm_1_state_c, lstm_1_state_h])\n",
    "\n",
    "\n",
    "# Summary\n",
    "infer_model.summary()"
   ]
  },
  {
   "cell_type": "code",
   "execution_count": null,
   "metadata": {
    "colab": {
     "base_uri": "https://localhost:8080/"
    },
    "id": "zcspfY6cb757",
    "outputId": "7d631f5b-99a0-4ad4-b47f-e90dec2a416c"
   },
   "outputs": [],
   "source": [
    "import numpy as np\n",
    "\n",
    "text = [\"When adam and eve were driven out of paradise, they were compelled to build a house for themselves on barren ground\"]\n",
    "\n",
    "seq = [text[0][i:i+2] for i in range(0, len(text[0]), 2)]\n",
    "\n",
    "# build up model state using the given string\n",
    "print(f\"Making predictions from a {len(seq)} element long input\")\n",
    "\n",
    "vocabulary = infer_model.get_layer(\"text_vectorization\").get_vocabulary()\n",
    "index_word = dict(zip(range(len(vocabulary)), vocabulary))\n",
    "\n",
    "# Reset the state of the model initially\n",
    "infer_model.reset_states()\n",
    "# Define the initial state as all zeros\n",
    "state_c = np.zeros(shape=(1,512))\n",
    "state_h = np.zeros(shape=(1,512))\n",
    "state_c_1 = np.zeros(shape=(1,256))\n",
    "state_h_1 = np.zeros(shape=(1,256))\n",
    "\n",
    "# Recursively update the model by assigning new state to state\n",
    "for c in seq:\n",
    "    #print(c)\n",
    "    out, state_c, state_h, state_c_1, state_h_1 = infer_model.predict(\n",
    "        [np.array([[c]]), state_c, state_h, state_c_1, state_h_1]\n",
    ")\n",
    "\n",
    "# Get final prediction after feeding the input string\n",
    "wid = int(np.argmax(out[0],axis=-1).ravel())\n",
    "word = index_word[wid]\n",
    "text.append(word)\n",
    "\n",
    "# Define first input to generate text recursively from\n",
    "x = np.array([[word]])\n",
    "\n",
    "# Code listing 10.7\n",
    "for _ in range(500):\n",
    "\n",
    "    # Get the next output and state\n",
    "    out, state_c, state_h, state_c_1, state_h_1  = infer_model.predict([x, state_c, state_h, state_c_1, state_h_1 ])\n",
    "\n",
    "    # Get the word ID and the word from out\n",
    "    out_argsort = np.argsort(out[0], axis=-1).ravel()\n",
    "    wid = int(out_argsort[-1])\n",
    "    word = index_word[wid]\n",
    "\n",
    "    # If the word ends with space, we introduce a bit of randomness\n",
    "    # Essentially pick one of the top three outputs for that time step depending on their likelihood\n",
    "    if word.endswith(' '):\n",
    "        if np.random.normal()>0.5:\n",
    "            width = 5\n",
    "            i = np.random.choice(list(range(-width,0)), p=out_argsort[-width:]/out_argsort[-width:].sum())\n",
    "            wid = int(out_argsort[i])\n",
    "            word = index_word[wid]\n",
    "\n",
    "    # Append the prediction\n",
    "    text.append(word)\n",
    "\n",
    "    # Recursively make the current prediction the next input\n",
    "    x = np.array([[word]])\n",
    "\n",
    "# Print the final output\n",
    "print('\\n')\n",
    "print('='*60)\n",
    "print(\"Final text: \")\n",
    "print(''.join(text))"
   ]
  },
  {
   "cell_type": "markdown",
   "metadata": {
    "id": "Qo5rXUh0TEzM"
   },
   "source": [
    "## Comparing to LSTMs with peepholes and GRUs"
   ]
  },
  {
   "cell_type": "code",
   "execution_count": null,
   "metadata": {
    "colab": {
     "base_uri": "https://localhost:8080/"
    },
    "id": "pfbAQnzrTEzM",
    "outputId": "40bdba1a-51b1-4d07-8de7-7fc08cf75e60"
   },
   "outputs": [],
   "source": [
    "import tensorflow.keras.backend as K\n",
    "import tensorflow_addons as tfa\n",
    "import tensorflow.keras.layers as layers\n",
    "import tensorflow.keras.models as models\n",
    "\n",
    "K.clear_session()\n",
    "tf.compat.v1.reset_default_graph()\n",
    "\n",
    "ngram_length = 2\n",
    "batch_size = 128\n",
    "window_size = 128\n",
    "\n",
    "train_ds = generate_tf_dataset(train_filenames, ngram_length, window_size, batch_size, shuffle=True)\n",
    "valid_ds = generate_tf_dataset(valid_filenames, ngram_length, window_size, batch_size)\n",
    "\n",
    "\n",
    "# The vectorization layer that will convert string bigrams to IDs\n",
    "text_vectorizer = tf.keras.layers.TextVectorization(\n",
    "    max_tokens=n_vocab, standardize=None,\n",
    "    split=None, input_shape=(window_size,)\n",
    ")\n",
    "\n",
    "# Train the model on existing data\n",
    "text_vectorizer.adapt(train_ds)\n",
    "\n",
    "lm_peephole_model = models.Sequential([\n",
    "    text_vectorizer,\n",
    "    layers.Embedding(n_vocab+2, 96),\n",
    "    layers.RNN(\n",
    "        tfa.rnn.PeepholeLSTMCell(512),\n",
    "        return_sequences=True\n",
    "    ),\n",
    "    layers.RNN(\n",
    "        tfa.rnn.PeepholeLSTMCell(256),\n",
    "        return_sequences=True\n",
    "    ),\n",
    "    layers.Dense(1024, activation='relu'),\n",
    "    layers.Dropout(0.5),\n",
    "    layers.Dense(n_vocab, activation='softmax')\n",
    "])\n",
    "\n",
    "lm_peephole_model.compile(loss='sparse_categorical_crossentropy', optimizer='adam', metrics=['accuracy', PerplexityMetric()])\n",
    "\n",
    "train_ds = train_ds.map(lambda x, y: (x, text_vectorizer(y)))\n",
    "valid_ds = valid_ds.map(lambda x, y: (x, text_vectorizer(y)))\n",
    "\n",
    "lstm_peephole_history = lm_peephole_model.fit(train_ds, validation_data=valid_ds, epochs=3)"
   ]
  },
  {
   "cell_type": "code",
   "execution_count": null,
   "metadata": {
    "colab": {
     "base_uri": "https://localhost:8080/"
    },
    "id": "s_NHZNvHTEzM",
    "outputId": "57456854-cb0e-4fbf-bc9d-cd363a1e355c"
   },
   "outputs": [],
   "source": [
    "import tensorflow.keras.backend as K\n",
    "import tensorflow_addons as tfa\n",
    "import tensorflow.keras.layers as layers\n",
    "import tensorflow.keras.models as models\n",
    "\n",
    "K.clear_session()\n",
    "tf.compat.v1.reset_default_graph()\n",
    "\n",
    "ngram_length = 2\n",
    "batch_size = 128\n",
    "window_size = 128\n",
    "\n",
    "train_ds = generate_tf_dataset(train_filenames, ngram_length, window_size, batch_size, shuffle=True)\n",
    "valid_ds = generate_tf_dataset(valid_filenames, ngram_length, window_size, batch_size)\n",
    "\n",
    "\n",
    "# The vectorization layer that will convert string bigrams to IDs\n",
    "text_vectorizer = tf.keras.layers.TextVectorization(\n",
    "    max_tokens=n_vocab, standardize=None,\n",
    "    split=None, input_shape=(window_size,)\n",
    ")\n",
    "\n",
    "# Train the model on existing data\n",
    "text_vectorizer.adapt(train_ds)\n",
    "\n",
    "lm_gru_model = models.Sequential([\n",
    "    text_vectorizer,\n",
    "    layers.Embedding(n_vocab+2, 96),\n",
    "    layers.GRU(512, return_sequences=True),\n",
    "    layers.GRU(256, return_sequences=True),\n",
    "    layers.Dense(1024, activation='relu'),\n",
    "    layers.Dropout(0.5),\n",
    "    layers.Dense(n_vocab, activation='softmax')\n",
    "])\n",
    "\n",
    "lm_gru_model.compile(loss='sparse_categorical_crossentropy', optimizer='adam', metrics=['accuracy', PerplexityMetric()])\n",
    "\n",
    "train_ds = train_ds.map(lambda x, y: (x, text_vectorizer(y)))\n",
    "valid_ds = valid_ds.map(lambda x, y: (x, text_vectorizer(y)))\n",
    "\n",
    "gru_history = lm_gru_model.fit(train_ds, validation_data=valid_ds, epochs=3)"
   ]
  },
  {
   "cell_type": "code",
   "execution_count": null,
   "metadata": {
    "colab": {
     "base_uri": "https://localhost:8080/",
     "height": 567
    },
    "id": "RsZIDsQralIY",
    "outputId": "403b6456-45f6-4f68-bfa3-bbfa12c1815a"
   },
   "outputs": [],
   "source": [
    "import matplotlib.pyplot as plt\n",
    "%matplotlib inline\n",
    "\n",
    "# Plots without the Word2vec-related results\n",
    "plt.figure(figsize=(12, 6))\n",
    "k = 5\n",
    "\n",
    "for model_name, history, marker, color in zip(\n",
    "    ['LSTM', 'LSTM (Peephole)', 'GRU'],\n",
    "    [lstm_history, lstm_peephole_history, gru_history],\n",
    "    ['o', '+', 'x'],\n",
    "    ['red', 'green', 'blue']\n",
    "):\n",
    "\n",
    "    train_perplexity = history.history[\"perplexity\"][k:]\n",
    "    val_perplexity = history.history[\"val_perplexity\"][k:]\n",
    "\n",
    "    # Plot the training perplexities\n",
    "    plt.plot(np.arange(k,len(train_perplexity)+k),\n",
    "               train_perplexity, marker=marker, markersize=6, linestyle='--' , color=color,\n",
    "               label = model_name)\n",
    "\n",
    "    plt.plot(np.arange(k, len(val_perplexity)+k),\n",
    "           val_perplexity, marker=marker, markersize=6, color=color,\n",
    "           label = model_name+'_valid')\n",
    "\n",
    "plt.legend(loc=1,fontsize=16)\n",
    "plt.title('Train/Valid perplexity behavior for various sequential models',fontsize=18)\n",
    "plt.ylabel('Perplexity',fontsize=18)\n"
   ]
  },
  {
   "cell_type": "markdown",
   "metadata": {
    "id": "LlA_hZL-bmJy"
   },
   "source": [
    "## LSTM with beam search\n",
    "\n",
    "Here we alter the previously defined prediction-related TensorFlow operations to employ beam search. Beam search is a way of prediction several time steps ahead. Instead of predicting the best prediction we have at a given time step, we get predictions for several time steps and get the sequence of highest joint probability."
   ]
  },
  {
   "cell_type": "code",
   "execution_count": null,
   "metadata": {
    "id": "L9loKm1tbl5W"
   },
   "outputs": [],
   "source": [
    "def beam_one_step(model, input_, states):\n",
    "    \"\"\" Perform the model update and output for one step\"\"\"\n",
    "    out = model.predict([input_, *states])\n",
    "    output, new_states = out[0], out[1:]\n",
    "    return output, new_states\n",
    "\n",
    "\n",
    "def beam_search(model, input_, states, beam_depth=5, beam_width=3):\n",
    "    \"\"\" Defines an outer wrapper for the computational function of beam search \"\"\"\n",
    "\n",
    "    vocabulary = infer_model.get_layer(\"text_vectorization\").get_vocabulary()\n",
    "    index_word = dict(zip(range(len(vocabulary)), vocabulary))\n",
    "\n",
    "    def recursive_fn(input_, states, sequence, log_prob, i):\n",
    "        \"\"\" This function performs actual recursive computation of the long string\"\"\"\n",
    "\n",
    "        if i == beam_depth:\n",
    "            \"\"\" Base case: Terminate the beam search \"\"\"\n",
    "            results.append((list(sequence), states, np.exp(log_prob)))\n",
    "            return sequence, log_prob, states\n",
    "        else:\n",
    "            \"\"\" Recursive case: Keep computing the output using the previous outputs\"\"\"\n",
    "            output, new_states = beam_one_step(model, input_, states)\n",
    "\n",
    "            # Get the top beam_width candidates, for the given depth\n",
    "            top_probs, top_ids = tf.nn.top_k(output, k=beam_width)\n",
    "            top_probs, top_ids = top_probs.numpy().ravel(), top_ids.numpy().ravel()\n",
    "\n",
    "            # For each candidate, compute the next prediction\n",
    "            for p, wid in zip(top_probs, top_ids):\n",
    "                new_log_prob = log_prob + np.log(p)\n",
    "\n",
    "                # we are going to penalize joint probability whenever the same symbol is repeating\n",
    "                if len(sequence)>0 and wid == sequence[-1]:\n",
    "                    new_log_prob = new_log_prob + np.log(1e-1)\n",
    "\n",
    "                sequence.append(wid)\n",
    "                _ = recursive_fn(np.array([[index_word[wid]]]), new_states, sequence, new_log_prob, i+1)\n",
    "                sequence.pop()\n",
    "\n",
    "\n",
    "    results = []\n",
    "    sequence = []\n",
    "    log_prob = 0.0\n",
    "    recursive_fn(input_, states, sequence, log_prob, 0)\n",
    "\n",
    "    results = sorted(results, key=lambda x: x[2], reverse=True)\n",
    "\n",
    "    return results"
   ]
  },
  {
   "cell_type": "code",
   "execution_count": null,
   "metadata": {
    "colab": {
     "base_uri": "https://localhost:8080/"
    },
    "id": "9-PqtezyhadG",
    "outputId": "7d631f5b-99a0-4ad4-b47f-e90dec2a416c"
   },
   "outputs": [],
   "source": [
    "text = [\"When adam and eve were driven out of paradise, they were compelled to build a house for themselves on barren ground\"]\n",
    "\n",
    "vocabulary = infer_model.get_layer(\"text_vectorization\").get_vocabulary()\n",
    "index_word = dict(zip(range(len(vocabulary)), vocabulary))\n",
    "\n",
    "\n",
    "seq = [text[0][i:i+2] for i in range(0, len(text[0]), 2)]\n",
    "\n",
    "# build up model state using the given string\n",
    "print(f\"Making {len(seq)} predictions from input\")\n",
    "\n",
    "\n",
    "# Reset the state of the model initially\n",
    "lm_model.reset_states()\n",
    "\n",
    "# Define the initial state as all zeros\n",
    "state_c = np.zeros(shape=(1,512))\n",
    "state_h = np.zeros(shape=(1,512))\n",
    "state_c_1 = np.zeros(shape=(1,256))\n",
    "state_h_1 = np.zeros(shape=(1,256))\n",
    "\n",
    "states = [state_c, state_h, state_c_1, state_h_1]\n",
    "\n",
    "# Recursively update the model by assigning new state to state\n",
    "for c in seq:\n",
    "    out, state_c, state_h, state_c_1, state_h_1 = infer_model.predict(\n",
    "        [np.array([[c]]), state_c, state_h, state_c_1, state_h_1]\n",
    ")\n",
    "\n",
    "# Get final prediction after feeding the input string\n",
    "wid = int(np.argmax(out[0],axis=-1).ravel())\n",
    "word = index_word[wid]\n",
    "text.append(word)\n",
    "\n",
    "# Define first input to generate text recursively from\n",
    "x = np.array([[word]])\n",
    "\n",
    "# Predict for 100 time steps\n",
    "for i in range(50):\n",
    "    print('.', end='')\n",
    "\n",
    "    # Get the results from beam search\n",
    "    result = beam_search(infer_model, x, states, 5, 5)\n",
    "\n",
    "    # Get one of the top 10 results based on their likelihood\n",
    "    n_probs = np.array([p for _,_,p in result[:10]])\n",
    "    p_j = np.random.choice(list(range(n_probs.size)), p=n_probs/n_probs.sum())\n",
    "    best_beam_ids, states, _ = result[p_j]\n",
    "    x = np.array([[index_word[best_beam_ids[-1]]]])\n",
    "\n",
    "    text.extend([index_word[w] for w in best_beam_ids])\n",
    "\n",
    "print('\\n')\n",
    "print('='*60)\n",
    "print(\"Final text: \")\n",
    "print(''.join(text))"
   ]
  }
 ],
 "metadata": {
  "accelerator": "GPU",
  "colab": {
   "gpuType": "T4",
   "provenance": []
  },
  "kernelspec": {
   "display_name": "Python 3 (ipykernel)",
   "language": "python",
   "name": "python3"
  },
  "language_info": {
   "codemirror_mode": {
    "name": "ipython",
    "version": 3
   },
   "file_extension": ".py",
   "mimetype": "text/x-python",
   "name": "python",
   "nbconvert_exporter": "python",
   "pygments_lexer": "ipython3",
   "version": "3.11.4"
  }
 },
 "nbformat": 4,
 "nbformat_minor": 4
}
